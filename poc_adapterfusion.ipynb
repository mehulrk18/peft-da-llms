{
 "cells": [
  {
   "cell_type": "code",
   "execution_count": 3,
   "metadata": {
    "collapsed": true,
    "ExecuteTime": {
     "end_time": "2024-07-29T12:51:06.003365Z",
     "start_time": "2024-07-29T12:51:06.001228Z"
    }
   },
   "outputs": [],
   "source": [
    "import torch\n",
    "from accelerate import Accelerator, init_empty_weights, load_checkpoint_and_dispatch\n",
    "torch.cuda.empty_cache()\n",
    "accelerator = Accelerator()\n",
    "\n",
    "RunningInCOLAB = 'google.colab' in str(get_ipython())\n",
    "\n",
    "if RunningInCOLAB:\n",
    "    from google.colab import drive\n",
    "    drive.mount('/content/drive')"
   ]
  },
  {
   "cell_type": "code",
   "execution_count": 4,
   "outputs": [],
   "source": [
    "dataset_info_dict = {\n",
    "    \"arxiv\": {\n",
    "        \"dataset_id\": \"ccdv/arxiv-summarization\",\n",
    "        \"local_path\": \"domains/arxiv_summarization\"\n",
    "    },\n",
    "    \"pubmed\": {\n",
    "        \"dataset_id\": \"ccdv/pubmed-summarization\",\n",
    "        \"local_path\": \"domains/pubmed_summarization\"\n",
    "    }\n",
    "}\n",
    "\n",
    "dir = \"/content/drive/My Drive/Colab Notebooks/\" if RunningInCOLAB else \"\"\n",
    "max_seq_len = 256 # context window # 1024\n",
    "ddtype = torch.float16 # float16\n",
    "bits = 4 #8\n",
    "bf16 = False\n",
    "bf32 = True\n",
    "fp16 = False\n",
    "compute_dtype = ddtype# torch.float32 # torch.bfloat16 if bf16 else torch.float32\n",
    "\n",
    "# Model Config\n",
    "llama3_model_id = \"meta-llama/Meta-Llama-3.1-8B-Instruct\"  #\"meta-llama/Meta-Llama-3-8B-Instruct\"\n",
    "mistral_model_id = \"mistralai/Mistral-7B-v0.3\" # \"mistralai/Mixtral-8x7B-v0.1\"  # \"meta-llama/Meta-Llama-3-8B-Instruct\" #  \"meta-llama/Llama-2-7b-hf\" # \"TheBloke/Llama-2-7B-Chat-GGML\"\n",
    "llama2 = \"meta-llama/Llama-2-7b-hf\"\n",
    "dgpt = \"distilgpt2\"\n",
    "model_id =  mistral_model_id # llama2"
   ],
   "metadata": {
    "collapsed": false,
    "ExecuteTime": {
     "end_time": "2024-07-29T12:51:08.842536Z",
     "start_time": "2024-07-29T12:51:08.840158Z"
    }
   }
  },
  {
   "cell_type": "code",
   "execution_count": 5,
   "outputs": [
    {
     "name": "stdout",
     "output_type": "stream",
     "text": [
      "Running on :  mps\n"
     ]
    }
   ],
   "source": [
    "device = \"mps\" if torch.backends.mps.is_available() else (\"cuda\" if torch.cuda.is_available() else \"cpu\")\n",
    "print(\"Running on : \", device)"
   ],
   "metadata": {
    "collapsed": false,
    "ExecuteTime": {
     "end_time": "2024-07-29T12:51:28.630805Z",
     "start_time": "2024-07-29T12:51:28.627689Z"
    }
   }
  },
  {
   "cell_type": "code",
   "execution_count": null,
   "outputs": [],
   "source": [
    "from adapters import LlamaAdapterModel\n",
    "from transformers import LlamaConfig, AutoModelForCausalLM\n",
    "\n",
    "AutoModelForCausalLM.from_pretrained()\n",
    "config = LlamaConfig.from_pretrained(\"mode\")"
   ],
   "metadata": {
    "collapsed": false
   }
  }
 ],
 "metadata": {
  "kernelspec": {
   "display_name": "Python 3",
   "language": "python",
   "name": "python3"
  },
  "language_info": {
   "codemirror_mode": {
    "name": "ipython",
    "version": 2
   },
   "file_extension": ".py",
   "mimetype": "text/x-python",
   "name": "python",
   "nbconvert_exporter": "python",
   "pygments_lexer": "ipython2",
   "version": "2.7.6"
  }
 },
 "nbformat": 4,
 "nbformat_minor": 0
}
